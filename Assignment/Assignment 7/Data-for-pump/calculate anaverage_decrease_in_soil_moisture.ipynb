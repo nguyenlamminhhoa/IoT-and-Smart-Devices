{
 "cells": [
  {
   "cell_type": "markdown",
   "id": "293e380c-8f1b-458d-9958-2fdcead1e197",
   "metadata": {},
   "source": [
    "## Read data from CSV and calculate average drop"
   ]
  },
  {
   "cell_type": "code",
   "execution_count": 3,
   "id": "45bbfbe1-4467-44ad-a525-ab999f9a3538",
   "metadata": {},
   "outputs": [
    {
     "name": "stdout",
     "output_type": "stream",
     "text": [
      "Average drop per second is: 20.33\n"
     ]
    }
   ],
   "source": [
    "import pandas as pd\n",
    "\n",
    "# Read CSV file\n",
    "df = pd.read_csv(\"soil_moisture_data_a7.csv\")\n",
    "\n",
    "# Skip the first line because it is a header\n",
    "df = df.iloc[1:].astype(int)\n",
    "\n",
    "# Calculate average decrease\n",
    "average_decrease = df[\"Decrease\"].mean()\n",
    "\n",
    "print(f\"Average drop per second is: {average_decrease:.2f}\")\n"
   ]
  },
  {
   "cell_type": "markdown",
   "id": "dfb94469-5fc9-4a4a-8966-e7b5fffe6a9e",
   "metadata": {},
   "source": [
    "## Calculate the required pumping time"
   ]
  },
  {
   "cell_type": "code",
   "execution_count": 4,
   "id": "b04942a9-7b04-42c1-b451-bf8fb1bdde93",
   "metadata": {},
   "outputs": [
    {
     "name": "stdout",
     "output_type": "stream",
     "text": [
      "Humidity is lower than desired, no need to pump more!\n"
     ]
    }
   ],
   "source": [
    "# Target humidity \n",
    "target_moisture = 550  # I want to pump when the moisture reach to 550\n",
    "\n",
    "# Get current humidity from last row of data\n",
    "current_moisture = df[\"Soil Moisture\"].iloc[-1]\n",
    "\n",
    "# Calculate the required pumping time\n",
    "moisture_to_decrease = current_moisture - target_moisture\n",
    "\n",
    "if moisture_to_decrease > 0:\n",
    "    time_needed = moisture_to_decrease / average_decrease\n",
    "    print(f\"Pumping time required: {time_needed:.2f} second\")\n",
    "else:\n",
    "    print(\"Humidity is lower than desired, no need to pump more!\")\n"
   ]
  },
  {
   "cell_type": "code",
   "execution_count": null,
   "id": "fb4b2412-72a1-447b-8a88-1ad7ffef7369",
   "metadata": {},
   "outputs": [],
   "source": []
  }
 ],
 "metadata": {
  "kernelspec": {
   "display_name": "Python 3 (ipykernel)",
   "language": "python",
   "name": "python3"
  },
  "language_info": {
   "codemirror_mode": {
    "name": "ipython",
    "version": 3
   },
   "file_extension": ".py",
   "mimetype": "text/x-python",
   "name": "python",
   "nbconvert_exporter": "python",
   "pygments_lexer": "ipython3",
   "version": "3.13.2"
  }
 },
 "nbformat": 4,
 "nbformat_minor": 5
}
